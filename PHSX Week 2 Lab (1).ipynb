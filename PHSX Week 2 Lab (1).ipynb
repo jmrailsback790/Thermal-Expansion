{
 "cells": [
  {
   "cell_type": "markdown",
   "metadata": {},
   "source": [
    "#Thermal Expansion Lab"
   ]
  },
  {
   "cell_type": "code",
   "execution_count": 27,
   "metadata": {},
   "outputs": [
    {
     "name": "stdout",
     "output_type": "stream",
     "text": [
      "61.0\n",
      "0.117\n",
      "2.7167603213672042e-05\n",
      "0.4242640687119285 °C\n",
      "3.8081487416951494e-07 /°C\n",
      "α = 2.7167603213672042e-05 +/- 3.8081487416951494e-07\n"
     ]
    }
   ],
   "source": [
    "#Aluminum\n",
    "import numpy as np \n",
    "\n",
    "#Change in temp (C)\n",
    "T1 = 24.89\n",
    "T2 = 85.89\n",
    "dT = T2 - T1\n",
    "print(dT)\n",
    "\n",
    "#Change in length (cm)\n",
    "L1 = 0\n",
    "L2 = .117\n",
    "dL = L2 - L1\n",
    "print(dL)\n",
    "\n",
    "#Coefficient of Thermal Expansion\n",
    "L = 70.6\n",
    "α = dL / (L * dT)\n",
    "print(α)\n",
    "\n",
    "#Uncertainties\n",
    "δdL = np.sqrt((0.001 ** 2) + (0.001 ** 2))\n",
    "δL = 0.1\n",
    "δdT = np.sqrt((.3 ** 2) + (.3 ** 2))\n",
    "print(δdT, '°C')\n",
    "\n",
    "δα = α * np.sqrt((δdL / dL) ** 2 + (((-1) * δL) / L) ** 2 + (((-1) * δdT) / dT) ** 2)\n",
    "print(δα, '/°C' )\n",
    "\n",
    "#Value of Coefficient\n",
    "print('α =', α, '+/-', δα)"
   ]
  },
  {
   "cell_type": "code",
   "execution_count": 28,
   "metadata": {},
   "outputs": [
    {
     "name": "stdout",
     "output_type": "stream",
     "text": [
      "62.8\n",
      "0.082\n",
      "1.857371954589521e-05\n",
      "0.4242640687119285\n",
      "3.4504463890165113e-07 /°C\n",
      "α = 1.857371954589521e-05 +/- 3.4504463890165113e-07\n"
     ]
    }
   ],
   "source": [
    "#Copper \n",
    "import numpy as np \n",
    "\n",
    "#Change in temp (C)\n",
    "T1 = 25.55\n",
    "T2 = 88.35\n",
    "dT = T2 - T1\n",
    "print(dT)\n",
    "\n",
    "#Change in length (cm)\n",
    "L1 = 0\n",
    "L2 = .082\n",
    "dL = L2 - L1\n",
    "print(dL)\n",
    "\n",
    "#Coefficient of Thermal Expansion\n",
    "L = 70.3\n",
    "α = dL / (L * dT)\n",
    "print(α)\n",
    "\n",
    "#Uncertainties\n",
    "δdL = np.sqrt((0.001 ** 2) + (0.001 ** 2))\n",
    "δL = 0.1\n",
    "δdT = np.sqrt((.3 ** 2) + (.3 ** 2))\n",
    "print(δdT)\n",
    "\n",
    "δα = α * np.sqrt((δdL / dL) ** 2 + (((-1) * δL) / L) ** 2 + (((-1) * δdT) / dT) ** 2)\n",
    "print(δα, '/°C')\n",
    "\n",
    "#Value of Coefficient\n",
    "print('α =', α, '+/-', δα)"
   ]
  }
 ],
 "metadata": {
  "kernelspec": {
   "display_name": "Python 3",
   "language": "python",
   "name": "python3"
  },
  "language_info": {
   "codemirror_mode": {
    "name": "ipython",
    "version": 3
   },
   "file_extension": ".py",
   "mimetype": "text/x-python",
   "name": "python",
   "nbconvert_exporter": "python",
   "pygments_lexer": "ipython3",
   "version": "3.8.5"
  }
 },
 "nbformat": 4,
 "nbformat_minor": 4
}
